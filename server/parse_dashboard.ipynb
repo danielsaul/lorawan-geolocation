{
 "cells": [
  {
   "cell_type": "code",
   "execution_count": 47,
   "metadata": {
    "collapsed": true
   },
   "outputs": [],
   "source": [
    "import requests\n",
    "import json"
   ]
  },
  {
   "cell_type": "code",
   "execution_count": 34,
   "metadata": {
    "collapsed": false
   },
   "outputs": [],
   "source": [
    "r = requests.post('https://dashboard.thingsconnected.net/api/login', json={'email': \"daniel.saul.14@ucl.ac.uk\", 'password': \"123Straphaels\"})"
   ]
  },
  {
   "cell_type": "code",
   "execution_count": 35,
   "metadata": {
    "collapsed": false
   },
   "outputs": [
    {
     "data": {
      "text/plain": [
       "u'{\"id\":\"user:4a4248e2-6133-4cff-8681-20338c4ea549\",\"firstname\":\"Daniel\",\"lastname\":\"Saul\",\"email\":\"daniel.saul.14@ucl.ac.uk\",\"created_at\":\"2017-02-08T11:35:00.000Z\",\"phone\":\"+447954699154\",\"organisation\":\"UCL\",\"organisation_type\":\"Small business\",\"organisation_stage\":\"Academic or grant funded\",\"job_title\":\"Student\",\"validation_state\":\"COMPLETE\",\"suspended\":0,\"is_admin\":false,\"login_counter\":16,\"last_login\":\"2017-03-06T18:46:19.000Z\"}'"
      ]
     },
     "execution_count": 35,
     "metadata": {},
     "output_type": "execute_result"
    }
   ],
   "source": [
    "r.text"
   ]
  },
  {
   "cell_type": "code",
   "execution_count": 36,
   "metadata": {
    "collapsed": true
   },
   "outputs": [],
   "source": [
    "msgs = requests.get('https://dashboard.thingsconnected.net/api/devices/dvc:70e945e4-0d83-4951-b3bb-36814208ee8e/messages/')"
   ]
  },
  {
   "cell_type": "code",
   "execution_count": 43,
   "metadata": {
    "collapsed": false
   },
   "outputs": [
    {
     "data": {
      "text/plain": [
       "<Response [403]>"
      ]
     },
     "execution_count": 43,
     "metadata": {},
     "output_type": "execute_result"
    }
   ],
   "source": [
    "msgs"
   ]
  },
  {
   "cell_type": "code",
   "execution_count": 40,
   "metadata": {
    "collapsed": false
   },
   "outputs": [
    {
     "data": {
      "text/plain": [
       "<Response [200]>"
      ]
     },
     "execution_count": 40,
     "metadata": {},
     "output_type": "execute_result"
    }
   ],
   "source": [
    "s = requests.Session()\n",
    "s.post('https://dashboard.thingsconnected.net/api/login', json={'email': \"daniel.saul.14@ucl.ac.uk\", 'password': \"123Straphaels\"})"
   ]
  },
  {
   "cell_type": "code",
   "execution_count": 41,
   "metadata": {
    "collapsed": true
   },
   "outputs": [],
   "source": [
    "r = s.get('https://dashboard.thingsconnected.net/api/devices/dvc:70e945e4-0d83-4951-b3bb-36814208ee8e/messages/')"
   ]
  },
  {
   "cell_type": "code",
   "execution_count": 61,
   "metadata": {
    "collapsed": false
   },
   "outputs": [
    {
     "data": {
      "text/plain": [
       "200"
      ]
     },
     "execution_count": 61,
     "metadata": {},
     "output_type": "execute_result"
    }
   ],
   "source": [
    "r.status_code"
   ]
  },
  {
   "cell_type": "code",
   "execution_count": 45,
   "metadata": {
    "collapsed": false
   },
   "outputs": [
    {
     "data": {
      "text/plain": [
       "u'[{\"dev_id\":\"03dd058e52ca1e6a\",\"server_time\":1488806803.248058,\"type_id\":2,\"coding_rate\":\"4/5\",\"gw_addr\":\"70b3d54b110f0000\",\"lsnr\":-6.8,\"payload\":\"0d1a2a40a4e4b71e3a60ebffa009010003000000\",\"size\":33,\"gateway_time\":1488806803.224407,\"adr\":true,\"gw_gps\":{\"lat\":51.52864,\"alt\":57,\"lon\":-0.12677},\"type_name\":\"UnconfirmedDataUp\",\"port\":1,\"rf_chain\":1,\"dev_band\":\"EU868\",\"channel\":6,\"direction\":\"up\",\"modulation\":\"LORA\",\"dev_addr\":\"287386b4\",\"freq\":868.5,\"encrypted_payload\":\"ff8325c0036ac238740996a920d88ae1e2a39f4a\",\"datarate\":\"SF7BW125\",\"counter\":62,\"rssi\":-109,\"gw_tmst\":1750347764,\"utc_time\":1488806803.224407},{\"dev_id\":\"03dd058e52ca1e6a\",\"server_time\":1488806698.235724,\"type_id\":2,\"coding_rate\":\"4/5\",\"gw_addr\":\"70b3d54b110f0000\",\"lsnr\":-7.5,\"payload\":\"0d183940cae2b71e605aebff76e2000004000000\",\"size\":33,\"gateway_time\":1488806698.222701,\"adr\":true,\"gw_gps\":{\"lat\":51.52865,\"alt\":61,\"lon\":-0.12678},\"type_name\":\"UnconfirmedDataUp\",\"port\":1,\"rf_chain\":1,\"dev_band\":\"EU868\",\"channel\":6,\"direction\":\"up\",\"modulation\":\"LORA\",\"dev_addr\":\"287386b4\",\"freq\":868.5,\"encrypted_payload\":\"0b623fe312b9d99afe5fd0a68c88c3e4a216bf14\",\"datarate\":\"SF7BW125\",\"counter\":55,\"rssi\":-107,\"gw_tmst\":1645346036,\"utc_time\":1488806698.222701},{\"dev_id\":\"03dd058e52ca1e6a\",\"server_time\":1488806653.237219,\"type_id\":2,\"coding_rate\":\"4/5\",\"gw_addr\":\"70b3d54b12600000\",\"lsnr\":-6,\"payload\":\"0d180c40d0cbb71e9d4febffb719010004000000\",\"size\":33,\"gateway_time\":1488806653.224145,\"adr\":true,\"gw_gps\":{\"lat\":51.52829,\"alt\":61,\"lon\":-0.13814},\"type_name\":\"UnconfirmedDataUp\",\"port\":1,\"rf_chain\":1,\"dev_band\":\"EU868\",\"channel\":6,\"direction\":\"up\",\"modulation\":\"LORA\",\"dev_addr\":\"287386b4\",\"freq\":868.5,\"encrypted_payload\":\"72feab6ca450c2ad315149238154e942f03769b4\",\"datarate\":\"SF7BW125\",\"counter\":52,\"rssi\":-114,\"gw_tmst\":3701869372,\"utc_time\":1488806653.224145},{\"dev_id\":\"03dd058e52ca1e6a\",\"server_time\":1488806653.24424,\"type_id\":2,\"coding_rate\":\"4/5\",\"gw_addr\":\"70b3d54b110f0000\",\"lsnr\":-6,\"payload\":\"0d180c40d0cbb71e9d4febffb719010004000000\",\"size\":33,\"gateway_time\":1488806653.224143,\"adr\":true,\"gw_gps\":{\"lat\":51.52865,\"alt\":60,\"lon\":-0.12679},\"type_name\":\"UnconfirmedDataUp\",\"port\":1,\"rf_chain\":1,\"dev_band\":\"EU868\",\"channel\":6,\"direction\":\"up\",\"modulation\":\"LORA\",\"dev_addr\":\"287386b4\",\"freq\":868.5,\"encrypted_payload\":\"72feab6ca450c2ad315149238154e942f03769b4\",\"datarate\":\"SF7BW125\",\"counter\":52,\"rssi\":-108,\"gw_tmst\":1600347468,\"utc_time\":1488806653.224143},{\"dev_id\":\"03dd058e52ca1e6a\",\"server_time\":1488806593.241073,\"type_id\":2,\"coding_rate\":\"4/5\",\"gw_addr\":\"70b3d54b110f0000\",\"lsnr\":-6.2,\"payload\":\"0d170c405addb71ec165ebff9ee7000003000000\",\"size\":33,\"gateway_time\":1488806593.222396,\"adr\":true,\"gw_gps\":{\"lat\":51.52865,\"alt\":60,\"lon\":-0.12679},\"type_name\":\"UnconfirmedDataUp\",\"port\":1,\"rf_chain\":1,\"dev_band\":\"EU868\",\"channel\":6,\"direction\":\"up\",\"modulation\":\"LORA\",\"dev_addr\":\"287386b4\",\"freq\":868.5,\"encrypted_payload\":\"1379fac60200233d6e37bdf66765391dcc4f06e3\",\"datarate\":\"SF7BW125\",\"counter\":48,\"rssi\":-107,\"gw_tmst\":1540345708,\"utc_time\":1488806593.222396},{\"dev_id\":\"03dd058e52ca1e6a\",\"server_time\":1488806491.238481,\"type_id\":2,\"coding_rate\":\"4/5\",\"gw_addr\":\"70b3d54b110f0000\",\"lsnr\":-5.2,\"payload\":\"0d151e4036e2b71e8d68ebff45ec000003000000\",\"size\":33,\"gateway_time\":1488806491.221298,\"adr\":true,\"gw_gps\":{\"lat\":51.52863,\"alt\":64,\"lon\":-0.1268},\"type_name\":\"UnconfirmedDataUp\",\"port\":1,\"rf_chain\":1,\"dev_band\":\"EU868\",\"channel\":6,\"direction\":\"up\",\"modulation\":\"LORA\",\"dev_addr\":\"287386b4\",\"freq\":868.5,\"encrypted_payload\":\"192cf0cc502a9b5d13546d4cab64de248a6cc7c2\",\"datarate\":\"SF7BW125\",\"counter\":42,\"rssi\":-108,\"gw_tmst\":1438344588,\"utc_time\":1488806491.221298},{\"dev_id\":\"03dd058e52ca1e6a\",\"server_time\":1488806491.24269,\"type_id\":2,\"coding_rate\":\"4/5\",\"gw_addr\":\"70b3d54b12600000\",\"lsnr\":-5.2,\"payload\":\"0d151e4036e2b71e8d68ebff45ec000003000000\",\"size\":33,\"gateway_time\":1488806491.221298,\"adr\":true,\"gw_gps\":{\"lat\":51.52831,\"alt\":63,\"lon\":-0.13815},\"type_name\":\"UnconfirmedDataUp\",\"port\":1,\"rf_chain\":1,\"dev_band\":\"EU868\",\"channel\":6,\"direction\":\"up\",\"modulation\":\"LORA\",\"dev_addr\":\"287386b4\",\"freq\":868.5,\"encrypted_payload\":\"192cf0cc502a9b5d13546d4cab64de248a6cc7c2\",\"datarate\":\"SF7BW125\",\"counter\":42,\"rssi\":-114,\"gw_tmst\":3539866516,\"utc_time\":1488806491.221298},{\"dev_id\":\"03dd058e52ca1e6a\",\"server_time\":1488806443.259589,\"type_id\":2,\"coding_rate\":\"4/5\",\"gw_addr\":\"70b3d54b12600000\",\"lsnr\":-3.5,\"payload\":\"0d142a40e5e9b71e0562ebff81ed000003000000\",\"size\":33,\"gateway_time\":1488806443.223317,\"adr\":true,\"gw_gps\":{\"lat\":51.52829,\"alt\":65,\"lon\":-0.13814},\"type_name\":\"UnconfirmedDataUp\",\"port\":1,\"rf_chain\":1,\"dev_band\":\"EU868\",\"channel\":6,\"direction\":\"up\",\"modulation\":\"LORA\",\"dev_addr\":\"287386b4\",\"freq\":868.5,\"encrypted_payload\":\"9b993238a8caec9954e6161fd1c271398007dcb9\",\"datarate\":\"SF7BW125\",\"counter\":39,\"rssi\":-112,\"gw_tmst\":3491868532,\"utc_time\":1488806443.223317},{\"dev_id\":\"03dd058e52ca1e6a\",\"server_time\":1488806428.241973,\"type_id\":2,\"coding_rate\":\"4/5\",\"gw_addr\":\"70b3d54b110f0000\",\"lsnr\":-3.8,\"payload\":\"0d141b408fe7b71eff5febff3df3000003000000\",\"size\":33,\"gateway_time\":1488806428.223319,\"adr\":true,\"gw_gps\":{\"lat\":51.52865,\"alt\":65,\"lon\":-0.1268},\"type_name\":\"UnconfirmedDataUp\",\"port\":1,\"rf_chain\":1,\"dev_band\":\"EU868\",\"channel\":6,\"direction\":\"up\",\"modulation\":\"LORA\",\"dev_addr\":\"287386b4\",\"freq\":868.5,\"encrypted_payload\":\"a22c1c5fcf84ef74d9cfbc33c3c0b89658c87fb2\",\"datarate\":\"SF7BW125\",\"counter\":38,\"rssi\":-108,\"gw_tmst\":1375346596,\"utc_time\":1488806428.223319},{\"dev_id\":\"03dd058e52ca1e6a\",\"server_time\":1488806428.24547,\"type_id\":2,\"coding_rate\":\"4/5\",\"gw_addr\":\"70b3d54b12600000\",\"lsnr\":-1.2,\"payload\":\"0d141b408fe7b71eff5febff3df3000003000000\",\"size\":33,\"gateway_time\":1488806428.223319,\"adr\":true,\"gw_gps\":{\"lat\":51.52829,\"alt\":65,\"lon\":-0.13814},\"type_name\":\"UnconfirmedDataUp\",\"port\":1,\"rf_chain\":1,\"dev_band\":\"EU868\",\"channel\":6,\"direction\":\"up\",\"modulation\":\"LORA\",\"dev_addr\":\"287386b4\",\"freq\":868.5,\"encrypted_payload\":\"a22c1c5fcf84ef74d9cfbc33c3c0b89658c87fb2\",\"datarate\":\"SF7BW125\",\"counter\":38,\"rssi\":-114,\"gw_tmst\":3476868532,\"utc_time\":1488806428.223319},{\"dev_id\":\"03dd058e52ca1e6a\",\"server_time\":1488806377.24162,\"type_id\":2,\"coding_rate\":\"4/5\",\"gw_addr\":\"70b3d54b12600000\",\"lsnr\":-6,\"payload\":\"0d132440ecf0b71e854bebffa0e3000003000000\",\"size\":33,\"gateway_time\":1488806377.223154,\"adr\":true,\"gw_gps\":{\"lat\":51.52828,\"alt\":65,\"lon\":-0.13814},\"type_name\":\"UnconfirmedDataUp\",\"port\":1,\"rf_chain\":1,\"dev_band\":\"EU868\",\"channel\":6,\"direction\":\"up\",\"modulation\":\"LORA\",\"dev_addr\":\"287386b4\",\"freq\":868.5,\"encrypted_payload\":\"57aaa7b25500ff2896bc090b5e9b5ae9e4878866\",\"datarate\":\"SF7BW125\",\"counter\":35,\"rssi\":-115,\"gw_tmst\":3425868364,\"utc_time\":1488806377.223154},{\"dev_id\":\"03dd058e52ca1e6a\",\"server_time\":1488806317.238224,\"type_id\":2,\"coding_rate\":\"4/5\",\"gw_addr\":\"70b3d54b110f0000\",\"lsnr\":-9.5,\"payload\":\"0d12244064edb71e725debff17a4000004000000\",\"size\":33,\"gateway_time\":1488806317.224344,\"adr\":true,\"gw_gps\":{\"lat\":51.52865,\"alt\":65,\"lon\":-0.12677},\"type_name\":\"UnconfirmedDataUp\",\"port\":1,\"rf_chain\":1,\"dev_band\":\"EU868\",\"channel\":5,\"direction\":\"up\",\"modulation\":\"LORA\",\"dev_addr\":\"287386b4\",\"freq\":868.3,\"encrypted_payload\":\"35bbfb436c3652ac160c7b429fbafd27c102d29a\",\"datarate\":\"SF7BW125\",\"counter\":31,\"rssi\":-106,\"gw_tmst\":1264347596,\"utc_time\":1488806317.224344},{\"encrypted_payload\":\"0ebe82\",\"dev_id\":\"03dd058e52ca1e6a\",\"direction\":\"down\",\"counter\":11,\"server_time\":1488806273.772756,\"payload\":\"41434b\",\"datarate\":\"SF7BW125\",\"type_id\":3,\"modulation\":\"LORA\",\"gw_addr\":\"70b3d54b13830000\",\"adr\":true,\"freq\":868.5,\"dev_addr\":\"287386b4\",\"rf_chain\":0,\"dev_band\":\"EU868\",\"coding_rate\":\"4/5\",\"type_name\":\"UnconfirmedDataDown\",\"gw_tmst\":2656074492,\"gw_power\":14,\"port\":1,\"utc_time\":1488806274.224159},{\"dev_id\":\"03dd058e52ca1e6a\",\"server_time\":1488806273.276736,\"type_id\":2,\"coding_rate\":\"4/5\",\"gw_addr\":\"70b3d54b13830000\",\"lsnr\":-8,\"payload\":\"0d113440cadfb71ea05bebffc548010004000000\",\"size\":33,\"gateway_time\":1488806273.224159,\"adr\":true,\"gw_gps\":{\"lat\":51.5229,\"alt\":78,\"lon\":-0.13228},\"type_name\":\"UnconfirmedDataUp\",\"port\":1,\"rf_chain\":1,\"dev_band\":\"EU868\",\"channel\":6,\"direction\":\"up\",\"modulation\":\"LORA\",\"dev_addr\":\"287386b4\",\"freq\":868.5,\"encrypted_payload\":\"04be0e5478dd2e73fe179a1a8121ef94e888b82f\",\"datarate\":\"SF7BW125\",\"counter\":28,\"rssi\":-103,\"gw_tmst\":2655074492,\"utc_time\":1488806273.224159},{\"encrypted_payload\":\"52ec77\",\"dev_id\":\"03dd058e52ca1e6a\",\"direction\":\"down\",\"counter\":10,\"server_time\":1488806229.78793,\"payload\":\"41434b\",\"datarate\":\"SF7BW125\",\"type_id\":3,\"modulation\":\"LORA\",\"gw_addr\":\"70b3d54b13830000\",\"adr\":true,\"freq\":868.3,\"dev_addr\":\"287386b4\",\"rf_chain\":0,\"dev_band\":\"EU868\",\"coding_rate\":\"4/5\",\"type_name\":\"UnconfirmedDataDown\",\"gw_tmst\":2612072804,\"gw_power\":14,\"port\":1,\"utc_time\":1488806230.222475}]'"
      ]
     },
     "execution_count": 45,
     "metadata": {},
     "output_type": "execute_result"
    }
   ],
   "source": [
    "r.text"
   ]
  },
  {
   "cell_type": "code",
   "execution_count": 48,
   "metadata": {
    "collapsed": false
   },
   "outputs": [],
   "source": [
    "data = json.loads(r.text)"
   ]
  },
  {
   "cell_type": "code",
   "execution_count": 49,
   "metadata": {
    "collapsed": false
   },
   "outputs": [
    {
     "data": {
      "text/plain": [
       "{u'adr': True,\n",
       " u'channel': 6,\n",
       " u'coding_rate': u'4/5',\n",
       " u'counter': 62,\n",
       " u'datarate': u'SF7BW125',\n",
       " u'dev_addr': u'287386b4',\n",
       " u'dev_band': u'EU868',\n",
       " u'dev_id': u'03dd058e52ca1e6a',\n",
       " u'direction': u'up',\n",
       " u'encrypted_payload': u'ff8325c0036ac238740996a920d88ae1e2a39f4a',\n",
       " u'freq': 868.5,\n",
       " u'gateway_time': 1488806803.224407,\n",
       " u'gw_addr': u'70b3d54b110f0000',\n",
       " u'gw_gps': {u'alt': 57, u'lat': 51.52864, u'lon': -0.12677},\n",
       " u'gw_tmst': 1750347764,\n",
       " u'lsnr': -6.8,\n",
       " u'modulation': u'LORA',\n",
       " u'payload': u'0d1a2a40a4e4b71e3a60ebffa009010003000000',\n",
       " u'port': 1,\n",
       " u'rf_chain': 1,\n",
       " u'rssi': -109,\n",
       " u'server_time': 1488806803.248058,\n",
       " u'size': 33,\n",
       " u'type_id': 2,\n",
       " u'type_name': u'UnconfirmedDataUp',\n",
       " u'utc_time': 1488806803.224407}"
      ]
     },
     "execution_count": 49,
     "metadata": {},
     "output_type": "execute_result"
    }
   ],
   "source": [
    "data[0]"
   ]
  },
  {
   "cell_type": "code",
   "execution_count": 52,
   "metadata": {
    "collapsed": false
   },
   "outputs": [
    {
     "data": {
      "text/plain": [
       "[13, 26, 42, '@', 515368100, -1351622, 68000, 3, '\\x00\\x00\\x00']"
      ]
     },
     "execution_count": 52,
     "metadata": {},
     "output_type": "execute_result"
    }
   ],
   "source": [
    "import struct\n",
    "list(struct.unpack('<BBBsiiiB3s', '0d1a2a40a4e4b71e3a60ebffa009010003000000'.decode('hex')))"
   ]
  },
  {
   "cell_type": "code",
   "execution_count": 57,
   "metadata": {
    "collapsed": false
   },
   "outputs": [
    {
     "data": {
      "text/plain": [
       "False"
      ]
     },
     "execution_count": 57,
     "metadata": {},
     "output_type": "execute_result"
    }
   ],
   "source": [
    "data[0] is data[2]"
   ]
  },
  {
   "cell_type": "code",
   "execution_count": 58,
   "metadata": {
    "collapsed": false
   },
   "outputs": [
    {
     "name": "stdout",
     "output_type": "stream",
     "text": [
      "1488806803.25\n",
      "1488806698.24\n",
      "1488806653.24\n",
      "1488806653.24\n",
      "1488806593.24\n",
      "1488806491.24\n",
      "1488806491.24\n",
      "1488806443.26\n",
      "1488806428.24\n",
      "1488806428.25\n",
      "1488806377.24\n",
      "1488806317.24\n",
      "1488806273.77\n",
      "1488806273.28\n",
      "1488806229.79\n"
     ]
    }
   ],
   "source": [
    "for d in data:\n",
    "    print d['server_time']"
   ]
  },
  {
   "cell_type": "code",
   "execution_count": 59,
   "metadata": {
    "collapsed": false
   },
   "outputs": [
    {
     "data": {
      "text/plain": [
       "15"
      ]
     },
     "execution_count": 59,
     "metadata": {},
     "output_type": "execute_result"
    }
   ],
   "source": [
    "len(data)"
   ]
  },
  {
   "cell_type": "code",
   "execution_count": 62,
   "metadata": {
    "collapsed": true
   },
   "outputs": [],
   "source": [
    "item = data[0]"
   ]
  },
  {
   "cell_type": "code",
   "execution_count": 64,
   "metadata": {
    "collapsed": false
   },
   "outputs": [
    {
     "data": {
      "text/plain": [
       "False"
      ]
     },
     "execution_count": 64,
     "metadata": {},
     "output_type": "execute_result"
    }
   ],
   "source": [
    "item == data[1]"
   ]
  },
  {
   "cell_type": "code",
   "execution_count": 65,
   "metadata": {
    "collapsed": true
   },
   "outputs": [],
   "source": [
    "msg = None"
   ]
  },
  {
   "cell_type": "code",
   "execution_count": 66,
   "metadata": {
    "collapsed": true
   },
   "outputs": [],
   "source": [
    "new = data[0]"
   ]
  },
  {
   "cell_type": "code",
   "execution_count": 67,
   "metadata": {
    "collapsed": false
   },
   "outputs": [
    {
     "data": {
      "text/plain": [
       "False"
      ]
     },
     "execution_count": 67,
     "metadata": {},
     "output_type": "execute_result"
    }
   ],
   "source": [
    "msg == data[0]"
   ]
  },
  {
   "cell_type": "code",
   "execution_count": 68,
   "metadata": {
    "collapsed": true
   },
   "outputs": [],
   "source": [
    "msg = new"
   ]
  },
  {
   "cell_type": "code",
   "execution_count": 69,
   "metadata": {
    "collapsed": false
   },
   "outputs": [
    {
     "data": {
      "text/plain": [
       "True"
      ]
     },
     "execution_count": 69,
     "metadata": {},
     "output_type": "execute_result"
    }
   ],
   "source": [
    "msg == data[0]"
   ]
  },
  {
   "cell_type": "code",
   "execution_count": 71,
   "metadata": {
    "collapsed": false
   },
   "outputs": [
    {
     "name": "stdout",
     "output_type": "stream",
     "text": [
      "\r",
      "\u001a*@��\u001e",
      ":`���\t\u0001\u0000\u0003\u0000\u0000\u0000\n",
      "\r",
      "\u001a*@��\u001e",
      ":`���\t\u0001\u0000\u0003\u0000\u0000\u0000\n"
     ]
    }
   ],
   "source": [
    "import base64\n",
    "print '0d1a2a40a4e4b71e3a60ebffa009010003000000'.decode('hex')\n",
    "print base64.b16decode('0d1a2a40a4e4b71e3a60ebffa009010003000000', True)"
   ]
  },
  {
   "cell_type": "code",
   "execution_count": 72,
   "metadata": {
    "collapsed": true
   },
   "outputs": [],
   "source": [
    "x = '0d1a2a40a4e4b71e3a60ebffa009010003000000'"
   ]
  },
  {
   "cell_type": "code",
   "execution_count": 73,
   "metadata": {
    "collapsed": false
   },
   "outputs": [
    {
     "data": {
      "text/plain": [
       "'0d1a2a40a4e4b71e3a60ebffa009010003000000'"
      ]
     },
     "execution_count": 73,
     "metadata": {},
     "output_type": "execute_result"
    }
   ],
   "source": [
    "x"
   ]
  },
  {
   "cell_type": "code",
   "execution_count": 74,
   "metadata": {
    "collapsed": false
   },
   "outputs": [
    {
     "data": {
      "text/plain": [
       "'\\r\\x1a*@\\xa4\\xe4\\xb7\\x1e:`\\xeb\\xff\\xa0\\t\\x01\\x00\\x03\\x00\\x00\\x00'"
      ]
     },
     "execution_count": 74,
     "metadata": {},
     "output_type": "execute_result"
    }
   ],
   "source": [
    "base64.b16decode('0d1a2a40a4e4b71e3a60ebffa009010003000000', True)"
   ]
  },
  {
   "cell_type": "code",
   "execution_count": 75,
   "metadata": {
    "collapsed": false
   },
   "outputs": [
    {
     "data": {
      "text/plain": [
       "'0d1a2a40a4e4b71e3a60ebffa009010003000000'"
      ]
     },
     "execution_count": 75,
     "metadata": {},
     "output_type": "execute_result"
    }
   ],
   "source": [
    "x"
   ]
  },
  {
   "cell_type": "code",
   "execution_count": 76,
   "metadata": {
    "collapsed": false
   },
   "outputs": [
    {
     "data": {
      "text/plain": [
       "'\\r\\x1a*@\\xa4\\xe4\\xb7\\x1e:`\\xeb\\xff\\xa0\\t\\x01\\x00\\x03\\x00\\x00\\x00'"
      ]
     },
     "execution_count": 76,
     "metadata": {},
     "output_type": "execute_result"
    }
   ],
   "source": [
    "x.decode('hex')"
   ]
  },
  {
   "cell_type": "code",
   "execution_count": 77,
   "metadata": {
    "collapsed": false
   },
   "outputs": [
    {
     "data": {
      "text/plain": [
       "'0d1a2a40a4e4b71e3a60ebffa009010003000000'"
      ]
     },
     "execution_count": 77,
     "metadata": {},
     "output_type": "execute_result"
    }
   ],
   "source": [
    "x"
   ]
  },
  {
   "cell_type": "code",
   "execution_count": null,
   "metadata": {
    "collapsed": true
   },
   "outputs": [],
   "source": []
  }
 ],
 "metadata": {
  "kernelspec": {
   "display_name": "Python 2",
   "language": "python",
   "name": "python2"
  },
  "language_info": {
   "codemirror_mode": {
    "name": "ipython",
    "version": 2
   },
   "file_extension": ".py",
   "mimetype": "text/x-python",
   "name": "python",
   "nbconvert_exporter": "python",
   "pygments_lexer": "ipython2",
   "version": "2.7.13"
  }
 },
 "nbformat": 4,
 "nbformat_minor": 1
}
