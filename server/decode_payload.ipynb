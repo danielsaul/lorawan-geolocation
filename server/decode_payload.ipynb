{
 "cells": [
  {
   "cell_type": "code",
   "execution_count": 5,
   "metadata": {
    "collapsed": true
   },
   "outputs": [],
   "source": [
    "import json\n",
    "import base64\n",
    "import struct"
   ]
  },
  {
   "cell_type": "code",
   "execution_count": 2,
   "metadata": {
    "collapsed": true
   },
   "outputs": [],
   "source": [
    "json_data = '{\"payload\": \"DRoqQKTktx46YOv/oAkBAAMAAAA=\", \"port\": 1, \"dev_addr\": \"287386b4\", \"radio\": {\"stat\": 1, \"gw_band\": \"EU863-870\", \"server_time\": 1488806803.248058, \"modu\": \"LORA\", \"gw_gps\": {\"lat\": 51.52864, \"alt\": 57, \"lon\": -0.12677}, \"gw_addr\": \"70b3d54b110f0000\", \"chan\": 6, \"gateway_time\": 1488806803.224407, \"datr\": \"SF7BW125\", \"tmst\": 1750347764, \"codr\": \"4/5\", \"rfch\": 1, \"lsnr\": -6.8, \"rssi\": -109, \"freq\": 868.5, \"size\": 33}, \"counter_up\": 62, \"dev_eui\": \"03dd058e52ca1e6a\", \"rx_time\": 1488806803.224407, \"encrypted_payload\": \"/4MlwANqwjh0CZapINiK4eKjn0o=\"}'\n",
    "data = json.loads(json_data)"
   ]
  },
  {
   "cell_type": "code",
   "execution_count": 3,
   "metadata": {
    "collapsed": false
   },
   "outputs": [
    {
     "data": {
      "text/plain": [
       "{u'counter_up': 62,\n",
       " u'dev_addr': u'287386b4',\n",
       " u'dev_eui': u'03dd058e52ca1e6a',\n",
       " u'encrypted_payload': u'/4MlwANqwjh0CZapINiK4eKjn0o=',\n",
       " u'payload': u'DRoqQKTktx46YOv/oAkBAAMAAAA=',\n",
       " u'port': 1,\n",
       " u'radio': {u'chan': 6,\n",
       "  u'codr': u'4/5',\n",
       "  u'datr': u'SF7BW125',\n",
       "  u'freq': 868.5,\n",
       "  u'gateway_time': 1488806803.224407,\n",
       "  u'gw_addr': u'70b3d54b110f0000',\n",
       "  u'gw_band': u'EU863-870',\n",
       "  u'gw_gps': {u'alt': 57, u'lat': 51.52864, u'lon': -0.12677},\n",
       "  u'lsnr': -6.8,\n",
       "  u'modu': u'LORA',\n",
       "  u'rfch': 1,\n",
       "  u'rssi': -109,\n",
       "  u'server_time': 1488806803.248058,\n",
       "  u'size': 33,\n",
       "  u'stat': 1,\n",
       "  u'tmst': 1750347764},\n",
       " u'rx_time': 1488806803.224407}"
      ]
     },
     "execution_count": 3,
     "metadata": {},
     "output_type": "execute_result"
    }
   ],
   "source": [
    "data"
   ]
  },
  {
   "cell_type": "code",
   "execution_count": 98,
   "metadata": {
    "collapsed": false
   },
   "outputs": [],
   "source": [
    "payload_bytes = base64.b64decode(data['payload'])"
   ]
  },
  {
   "cell_type": "code",
   "execution_count": 99,
   "metadata": {
    "collapsed": false
   },
   "outputs": [],
   "source": [
    "# Payload Structure\n",
    "#0  int32_t lat;   \n",
    "#4  int32_t lon;\n",
    "#8  int32_t alt; \n",
    "#12 uint16_t i;\n",
    "#14 uint8_t hour;\n",
    "#15 uint8_t mins;\n",
    "#16 uint8_t secs;\n",
    "#17 uint8_t sats;\n",
    "#18 char[] padding;\n",
    "\n",
    "fields = ['lat','lon','alt','i','hour','mins','secs','sats']\n",
    "unpacked_payload = list(struct.unpack('<iiiHBBBB2s', payload_bytes))\n",
    "payload = dict(zip(fields, unpacked_payload))"
   ]
  },
  {
   "cell_type": "code",
   "execution_count": 74,
   "metadata": {
    "collapsed": false
   },
   "outputs": [],
   "source": [
    "payload['lat'] /= 10000000.0\n",
    "payload['lon'] /= 10000000.0\n",
    "payload['alt'] /= 1000.0"
   ]
  },
  {
   "cell_type": "code",
   "execution_count": 75,
   "metadata": {
    "collapsed": false
   },
   "outputs": [
    {
     "data": {
      "text/plain": [
       "{'alt': 68.0,\n",
       " 'hour': 13,\n",
       " 'lat': 51.53681,\n",
       " 'lon': -0.1351622,\n",
       " 'mins': 26,\n",
       " 'sats': 3,\n",
       " 'secs': 42}"
      ]
     },
     "execution_count": 75,
     "metadata": {},
     "output_type": "execute_result"
    }
   ],
   "source": [
    "payload"
   ]
  },
  {
   "cell_type": "code",
   "execution_count": 94,
   "metadata": {
    "collapsed": false
   },
   "outputs": [],
   "source": [
    "new = {'counter': data['counter_up'], 'p': data['payload'],  'payload': payload, 'gateways': [data['radio']['gw_gps'],]}"
   ]
  },
  {
   "cell_type": "code",
   "execution_count": 96,
   "metadata": {
    "collapsed": false
   },
   "outputs": [],
   "source": [
    "new['gateways'][0]['rssi'] = data['radio']['rssi']\n",
    "new['gateways'][0]['time'] = data['radio']['gateway_time']"
   ]
  },
  {
   "cell_type": "code",
   "execution_count": 97,
   "metadata": {
    "collapsed": false
   },
   "outputs": [
    {
     "data": {
      "text/plain": [
       "{'counter': 62,\n",
       " 'gateways': [{u'alt': 57,\n",
       "   u'lat': 51.52864,\n",
       "   u'lon': -0.12677,\n",
       "   'rssi': -109,\n",
       "   'time': 1488806803.224407}],\n",
       " 'p': u'DRoqQKTktx46YOv/oAkBAAMAAAA=',\n",
       " 'payload': {'alt': 68.0,\n",
       "  'hour': 13,\n",
       "  'lat': 51.53681,\n",
       "  'lon': -0.1351622,\n",
       "  'mins': 26,\n",
       "  'sats': 3,\n",
       "  'secs': 42}}"
      ]
     },
     "execution_count": 97,
     "metadata": {},
     "output_type": "execute_result"
    }
   ],
   "source": [
    "new"
   ]
  },
  {
   "cell_type": "code",
   "execution_count": 103,
   "metadata": {
    "collapsed": false
   },
   "outputs": [
    {
     "name": "stdout",
     "output_type": "stream",
     "text": [
      "not\n"
     ]
    }
   ],
   "source": [
    "msg = None\n",
    "if not msg:\n",
    "    print \"not\""
   ]
  },
  {
   "cell_type": "code",
   "execution_count": 104,
   "metadata": {
    "collapsed": true
   },
   "outputs": [],
   "source": [
    "msg = None"
   ]
  },
  {
   "cell_type": "code",
   "execution_count": 105,
   "metadata": {
    "collapsed": false
   },
   "outputs": [
    {
     "ename": "KeyError",
     "evalue": "0",
     "output_type": "error",
     "traceback": [
      "\u001b[0;31m-----------------------------------------------------------------------\u001b[0m",
      "\u001b[0;31mKeyError\u001b[0m                              Traceback (most recent call last)",
      "\u001b[0;32m<ipython-input-105-5c23d5db0da3>\u001b[0m in \u001b[0;36m<module>\u001b[0;34m()\u001b[0m\n\u001b[0;32m----> 1\u001b[0;31m \u001b[0mmsg\u001b[0m \u001b[0;34m=\u001b[0m \u001b[0mdata\u001b[0m\u001b[0;34m[\u001b[0m\u001b[0;36m0\u001b[0m\u001b[0;34m]\u001b[0m\u001b[0;34m\u001b[0m\u001b[0m\n\u001b[0m",
      "\u001b[0;31mKeyError\u001b[0m: 0"
     ]
    }
   ],
   "source": [
    "msg = data[0]"
   ]
  },
  {
   "cell_type": "code",
   "execution_count": null,
   "metadata": {
    "collapsed": true
   },
   "outputs": [],
   "source": []
  }
 ],
 "metadata": {
  "kernelspec": {
   "display_name": "Python 2",
   "language": "python",
   "name": "python2"
  },
  "language_info": {
   "codemirror_mode": {
    "name": "ipython",
    "version": 2
   },
   "file_extension": ".py",
   "mimetype": "text/x-python",
   "name": "python",
   "nbconvert_exporter": "python",
   "pygments_lexer": "ipython2",
   "version": "2.7.13"
  }
 },
 "nbformat": 4,
 "nbformat_minor": 1
}
